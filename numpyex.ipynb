{
  "nbformat": 4,
  "nbformat_minor": 0,
  "metadata": {
    "colab": {
      "name": "numpyex.ipynb",
      "provenance": [],
      "collapsed_sections": [],
      "include_colab_link": true
    },
    "kernelspec": {
      "name": "python3",
      "display_name": "Python 3"
    }
  },
  "cells": [
    {
      "cell_type": "markdown",
      "metadata": {
        "id": "view-in-github",
        "colab_type": "text"
      },
      "source": [
        "<a href=\"https://colab.research.google.com/github/AnupJoseph/numpex/blob/master/numpyex.ipynb\" target=\"_parent\"><img src=\"https://colab.research.google.com/assets/colab-badge.svg\" alt=\"Open In Colab\"/></a>"
      ]
    },
    {
      "cell_type": "code",
      "metadata": {
        "id": "5uWxd7IvXmu2",
        "colab_type": "code",
        "colab": {}
      },
      "source": [
        "import numpy as np"
      ],
      "execution_count": 0,
      "outputs": []
    },
    {
      "cell_type": "code",
      "metadata": {
        "id": "qE8NHuTpvtnE",
        "colab_type": "code",
        "outputId": "4a7fbb74-ff5f-44fb-ad3f-4a34fcc103ce",
        "colab": {
          "base_uri": "https://localhost:8080/",
          "height": 67
        }
      },
      "source": [
        "#swap columns of a matrix in numpy\n",
        "arr = np.arange(9).reshape(3,3)\n",
        "arr[:,0],arr[:,1] = arr[:,1],arr[:,0].copy()\n",
        "arr"
      ],
      "execution_count": 0,
      "outputs": [
        {
          "output_type": "execute_result",
          "data": {
            "text/plain": [
              "array([[1, 0, 2],\n",
              "       [4, 3, 5],\n",
              "       [7, 6, 8]])"
            ]
          },
          "metadata": {
            "tags": []
          },
          "execution_count": 3
        }
      ]
    },
    {
      "cell_type": "code",
      "metadata": {
        "id": "Stf21Oz5wxnv",
        "colab_type": "code",
        "outputId": "2021d699-e10c-421c-d59d-4399e86842ab",
        "colab": {
          "base_uri": "https://localhost:8080/",
          "height": 67
        }
      },
      "source": [
        "#swap rows of a matrix in numpy\n",
        "arr[0,:],arr[1,:] = arr[1,:],arr[0,:].copy()\n",
        "arr"
      ],
      "execution_count": 0,
      "outputs": [
        {
          "output_type": "execute_result",
          "data": {
            "text/plain": [
              "array([[4, 3, 5],\n",
              "       [1, 0, 2],\n",
              "       [7, 6, 8]])"
            ]
          },
          "metadata": {
            "tags": []
          },
          "execution_count": 4
        }
      ]
    },
    {
      "cell_type": "code",
      "metadata": {
        "id": "wq3TVU7oyIDJ",
        "colab_type": "code",
        "outputId": "c535b20b-6c5a-4988-ced7-94bea80ac2cc",
        "colab": {
          "base_uri": "https://localhost:8080/",
          "height": 67
        }
      },
      "source": [
        "#reverse rows of a numpy array\n",
        "arr[:,::-1]"
      ],
      "execution_count": 0,
      "outputs": [
        {
          "output_type": "execute_result",
          "data": {
            "text/plain": [
              "array([[5, 3, 4],\n",
              "       [2, 0, 1],\n",
              "       [8, 6, 7]])"
            ]
          },
          "metadata": {
            "tags": []
          },
          "execution_count": 7
        }
      ]
    },
    {
      "cell_type": "code",
      "metadata": {
        "id": "Hc9mCqr4yjHl",
        "colab_type": "code",
        "outputId": "cba74747-eb50-4257-ada4-442c9c1b7b54",
        "colab": {
          "base_uri": "https://localhost:8080/",
          "height": 101
        }
      },
      "source": [
        "#Generating random numbers between x and y\n",
        "x,y = 5,10\n",
        "rand_arr = np.random.uniform(x,y,size=(5,3))\n",
        "rand_arr"
      ],
      "execution_count": 0,
      "outputs": [
        {
          "output_type": "execute_result",
          "data": {
            "text/plain": [
              "array([[6.85381079, 8.4483336 , 8.60236764],\n",
              "       [9.87003186, 5.71762519, 6.16482545],\n",
              "       [7.03086433, 8.11687306, 9.44695486],\n",
              "       [8.12496474, 7.96126992, 5.31838171],\n",
              "       [5.6561182 , 5.04043681, 7.84322687]])"
            ]
          },
          "metadata": {
            "tags": []
          },
          "execution_count": 9
        }
      ]
    },
    {
      "cell_type": "code",
      "metadata": {
        "id": "_i2uQ-4A1kCv",
        "colab_type": "code",
        "colab": {
          "base_uri": "https://localhost:8080/",
          "height": 101
        },
        "outputId": "2728b8ed-8472-4adf-c024-0f0e39755297"
      },
      "source": [
        "#Print only n decimal places using numpy\n",
        "rand_arr = np.random.random((5,3))\n",
        "n = 3\n",
        "np.set_printoptions(precision=n)\n",
        "rand_arr"
      ],
      "execution_count": 3,
      "outputs": [
        {
          "output_type": "execute_result",
          "data": {
            "text/plain": [
              "array([[0.042, 0.504, 0.011],\n",
              "       [0.697, 0.402, 0.757],\n",
              "       [0.939, 0.589, 0.337],\n",
              "       [0.689, 0.862, 0.661],\n",
              "       [0.705, 0.52 , 0.148]])"
            ]
          },
          "metadata": {
            "tags": []
          },
          "execution_count": 3
        }
      ]
    },
    {
      "cell_type": "code",
      "metadata": {
        "id": "x8UfVtG6P6BH",
        "colab_type": "code",
        "colab": {
          "base_uri": "https://localhost:8080/",
          "height": 67
        },
        "outputId": "2c9a91b4-ca5c-4595-a039-1cdf503ec5e3"
      },
      "source": [
        "#Supress scientific notation \n",
        "np.random.seed(100)\n",
        "rand_arr = np.random.random([3,3])/1e3\n",
        "np.set_printoptions(suppress=True,precision=6)\n",
        "rand_arr"
      ],
      "execution_count": 6,
      "outputs": [
        {
          "output_type": "execute_result",
          "data": {
            "text/plain": [
              "array([[0.000543, 0.000278, 0.000425],\n",
              "       [0.000845, 0.000005, 0.000122],\n",
              "       [0.000671, 0.000826, 0.000137]])"
            ]
          },
          "metadata": {
            "tags": []
          },
          "execution_count": 6
        }
      ]
    },
    {
      "cell_type": "code",
      "metadata": {
        "id": "d6SlA9tNQh1B",
        "colab_type": "code",
        "colab": {
          "base_uri": "https://localhost:8080/",
          "height": 1000
        },
        "outputId": "4aeec752-3338-4955-ab0d-037e4750984c"
      },
      "source": [
        "#keep string data intact while loading files\n",
        "\n",
        "url = \"/content/iris.data\"\n",
        "np.genfromtxt(url,delimiter=',',dtype=str)"
      ],
      "execution_count": 10,
      "outputs": [
        {
          "output_type": "execute_result",
          "data": {
            "text/plain": [
              "array([['5.1', '3.5', '1.4', '0.2', 'Iris-setosa'],\n",
              "       ['4.9', '3.0', '1.4', '0.2', 'Iris-setosa'],\n",
              "       ['4.7', '3.2', '1.3', '0.2', 'Iris-setosa'],\n",
              "       ['4.6', '3.1', '1.5', '0.2', 'Iris-setosa'],\n",
              "       ['5.0', '3.6', '1.4', '0.2', 'Iris-setosa'],\n",
              "       ['5.4', '3.9', '1.7', '0.4', 'Iris-setosa'],\n",
              "       ['4.6', '3.4', '1.4', '0.3', 'Iris-setosa'],\n",
              "       ['5.0', '3.4', '1.5', '0.2', 'Iris-setosa'],\n",
              "       ['4.4', '2.9', '1.4', '0.2', 'Iris-setosa'],\n",
              "       ['4.9', '3.1', '1.5', '0.1', 'Iris-setosa'],\n",
              "       ['5.4', '3.7', '1.5', '0.2', 'Iris-setosa'],\n",
              "       ['4.8', '3.4', '1.6', '0.2', 'Iris-setosa'],\n",
              "       ['4.8', '3.0', '1.4', '0.1', 'Iris-setosa'],\n",
              "       ['4.3', '3.0', '1.1', '0.1', 'Iris-setosa'],\n",
              "       ['5.8', '4.0', '1.2', '0.2', 'Iris-setosa'],\n",
              "       ['5.7', '4.4', '1.5', '0.4', 'Iris-setosa'],\n",
              "       ['5.4', '3.9', '1.3', '0.4', 'Iris-setosa'],\n",
              "       ['5.1', '3.5', '1.4', '0.3', 'Iris-setosa'],\n",
              "       ['5.7', '3.8', '1.7', '0.3', 'Iris-setosa'],\n",
              "       ['5.1', '3.8', '1.5', '0.3', 'Iris-setosa'],\n",
              "       ['5.4', '3.4', '1.7', '0.2', 'Iris-setosa'],\n",
              "       ['5.1', '3.7', '1.5', '0.4', 'Iris-setosa'],\n",
              "       ['4.6', '3.6', '1.0', '0.2', 'Iris-setosa'],\n",
              "       ['5.1', '3.3', '1.7', '0.5', 'Iris-setosa'],\n",
              "       ['4.8', '3.4', '1.9', '0.2', 'Iris-setosa'],\n",
              "       ['5.0', '3.0', '1.6', '0.2', 'Iris-setosa'],\n",
              "       ['5.0', '3.4', '1.6', '0.4', 'Iris-setosa'],\n",
              "       ['5.2', '3.5', '1.5', '0.2', 'Iris-setosa'],\n",
              "       ['5.2', '3.4', '1.4', '0.2', 'Iris-setosa'],\n",
              "       ['4.7', '3.2', '1.6', '0.2', 'Iris-setosa'],\n",
              "       ['4.8', '3.1', '1.6', '0.2', 'Iris-setosa'],\n",
              "       ['5.4', '3.4', '1.5', '0.4', 'Iris-setosa'],\n",
              "       ['5.2', '4.1', '1.5', '0.1', 'Iris-setosa'],\n",
              "       ['5.5', '4.2', '1.4', '0.2', 'Iris-setosa'],\n",
              "       ['4.9', '3.1', '1.5', '0.1', 'Iris-setosa'],\n",
              "       ['5.0', '3.2', '1.2', '0.2', 'Iris-setosa'],\n",
              "       ['5.5', '3.5', '1.3', '0.2', 'Iris-setosa'],\n",
              "       ['4.9', '3.1', '1.5', '0.1', 'Iris-setosa'],\n",
              "       ['4.4', '3.0', '1.3', '0.2', 'Iris-setosa'],\n",
              "       ['5.1', '3.4', '1.5', '0.2', 'Iris-setosa'],\n",
              "       ['5.0', '3.5', '1.3', '0.3', 'Iris-setosa'],\n",
              "       ['4.5', '2.3', '1.3', '0.3', 'Iris-setosa'],\n",
              "       ['4.4', '3.2', '1.3', '0.2', 'Iris-setosa'],\n",
              "       ['5.0', '3.5', '1.6', '0.6', 'Iris-setosa'],\n",
              "       ['5.1', '3.8', '1.9', '0.4', 'Iris-setosa'],\n",
              "       ['4.8', '3.0', '1.4', '0.3', 'Iris-setosa'],\n",
              "       ['5.1', '3.8', '1.6', '0.2', 'Iris-setosa'],\n",
              "       ['4.6', '3.2', '1.4', '0.2', 'Iris-setosa'],\n",
              "       ['5.3', '3.7', '1.5', '0.2', 'Iris-setosa'],\n",
              "       ['5.0', '3.3', '1.4', '0.2', 'Iris-setosa'],\n",
              "       ['7.0', '3.2', '4.7', '1.4', 'Iris-versicolor'],\n",
              "       ['6.4', '3.2', '4.5', '1.5', 'Iris-versicolor'],\n",
              "       ['6.9', '3.1', '4.9', '1.5', 'Iris-versicolor'],\n",
              "       ['5.5', '2.3', '4.0', '1.3', 'Iris-versicolor'],\n",
              "       ['6.5', '2.8', '4.6', '1.5', 'Iris-versicolor'],\n",
              "       ['5.7', '2.8', '4.5', '1.3', 'Iris-versicolor'],\n",
              "       ['6.3', '3.3', '4.7', '1.6', 'Iris-versicolor'],\n",
              "       ['4.9', '2.4', '3.3', '1.0', 'Iris-versicolor'],\n",
              "       ['6.6', '2.9', '4.6', '1.3', 'Iris-versicolor'],\n",
              "       ['5.2', '2.7', '3.9', '1.4', 'Iris-versicolor'],\n",
              "       ['5.0', '2.0', '3.5', '1.0', 'Iris-versicolor'],\n",
              "       ['5.9', '3.0', '4.2', '1.5', 'Iris-versicolor'],\n",
              "       ['6.0', '2.2', '4.0', '1.0', 'Iris-versicolor'],\n",
              "       ['6.1', '2.9', '4.7', '1.4', 'Iris-versicolor'],\n",
              "       ['5.6', '2.9', '3.6', '1.3', 'Iris-versicolor'],\n",
              "       ['6.7', '3.1', '4.4', '1.4', 'Iris-versicolor'],\n",
              "       ['5.6', '3.0', '4.5', '1.5', 'Iris-versicolor'],\n",
              "       ['5.8', '2.7', '4.1', '1.0', 'Iris-versicolor'],\n",
              "       ['6.2', '2.2', '4.5', '1.5', 'Iris-versicolor'],\n",
              "       ['5.6', '2.5', '3.9', '1.1', 'Iris-versicolor'],\n",
              "       ['5.9', '3.2', '4.8', '1.8', 'Iris-versicolor'],\n",
              "       ['6.1', '2.8', '4.0', '1.3', 'Iris-versicolor'],\n",
              "       ['6.3', '2.5', '4.9', '1.5', 'Iris-versicolor'],\n",
              "       ['6.1', '2.8', '4.7', '1.2', 'Iris-versicolor'],\n",
              "       ['6.4', '2.9', '4.3', '1.3', 'Iris-versicolor'],\n",
              "       ['6.6', '3.0', '4.4', '1.4', 'Iris-versicolor'],\n",
              "       ['6.8', '2.8', '4.8', '1.4', 'Iris-versicolor'],\n",
              "       ['6.7', '3.0', '5.0', '1.7', 'Iris-versicolor'],\n",
              "       ['6.0', '2.9', '4.5', '1.5', 'Iris-versicolor'],\n",
              "       ['5.7', '2.6', '3.5', '1.0', 'Iris-versicolor'],\n",
              "       ['5.5', '2.4', '3.8', '1.1', 'Iris-versicolor'],\n",
              "       ['5.5', '2.4', '3.7', '1.0', 'Iris-versicolor'],\n",
              "       ['5.8', '2.7', '3.9', '1.2', 'Iris-versicolor'],\n",
              "       ['6.0', '2.7', '5.1', '1.6', 'Iris-versicolor'],\n",
              "       ['5.4', '3.0', '4.5', '1.5', 'Iris-versicolor'],\n",
              "       ['6.0', '3.4', '4.5', '1.6', 'Iris-versicolor'],\n",
              "       ['6.7', '3.1', '4.7', '1.5', 'Iris-versicolor'],\n",
              "       ['6.3', '2.3', '4.4', '1.3', 'Iris-versicolor'],\n",
              "       ['5.6', '3.0', '4.1', '1.3', 'Iris-versicolor'],\n",
              "       ['5.5', '2.5', '4.0', '1.3', 'Iris-versicolor'],\n",
              "       ['5.5', '2.6', '4.4', '1.2', 'Iris-versicolor'],\n",
              "       ['6.1', '3.0', '4.6', '1.4', 'Iris-versicolor'],\n",
              "       ['5.8', '2.6', '4.0', '1.2', 'Iris-versicolor'],\n",
              "       ['5.0', '2.3', '3.3', '1.0', 'Iris-versicolor'],\n",
              "       ['5.6', '2.7', '4.2', '1.3', 'Iris-versicolor'],\n",
              "       ['5.7', '3.0', '4.2', '1.2', 'Iris-versicolor'],\n",
              "       ['5.7', '2.9', '4.2', '1.3', 'Iris-versicolor'],\n",
              "       ['6.2', '2.9', '4.3', '1.3', 'Iris-versicolor'],\n",
              "       ['5.1', '2.5', '3.0', '1.1', 'Iris-versicolor'],\n",
              "       ['5.7', '2.8', '4.1', '1.3', 'Iris-versicolor'],\n",
              "       ['6.3', '3.3', '6.0', '2.5', 'Iris-virginica'],\n",
              "       ['5.8', '2.7', '5.1', '1.9', 'Iris-virginica'],\n",
              "       ['7.1', '3.0', '5.9', '2.1', 'Iris-virginica'],\n",
              "       ['6.3', '2.9', '5.6', '1.8', 'Iris-virginica'],\n",
              "       ['6.5', '3.0', '5.8', '2.2', 'Iris-virginica'],\n",
              "       ['7.6', '3.0', '6.6', '2.1', 'Iris-virginica'],\n",
              "       ['4.9', '2.5', '4.5', '1.7', 'Iris-virginica'],\n",
              "       ['7.3', '2.9', '6.3', '1.8', 'Iris-virginica'],\n",
              "       ['6.7', '2.5', '5.8', '1.8', 'Iris-virginica'],\n",
              "       ['7.2', '3.6', '6.1', '2.5', 'Iris-virginica'],\n",
              "       ['6.5', '3.2', '5.1', '2.0', 'Iris-virginica'],\n",
              "       ['6.4', '2.7', '5.3', '1.9', 'Iris-virginica'],\n",
              "       ['6.8', '3.0', '5.5', '2.1', 'Iris-virginica'],\n",
              "       ['5.7', '2.5', '5.0', '2.0', 'Iris-virginica'],\n",
              "       ['5.8', '2.8', '5.1', '2.4', 'Iris-virginica'],\n",
              "       ['6.4', '3.2', '5.3', '2.3', 'Iris-virginica'],\n",
              "       ['6.5', '3.0', '5.5', '1.8', 'Iris-virginica'],\n",
              "       ['7.7', '3.8', '6.7', '2.2', 'Iris-virginica'],\n",
              "       ['7.7', '2.6', '6.9', '2.3', 'Iris-virginica'],\n",
              "       ['6.0', '2.2', '5.0', '1.5', 'Iris-virginica'],\n",
              "       ['6.9', '3.2', '5.7', '2.3', 'Iris-virginica'],\n",
              "       ['5.6', '2.8', '4.9', '2.0', 'Iris-virginica'],\n",
              "       ['7.7', '2.8', '6.7', '2.0', 'Iris-virginica'],\n",
              "       ['6.3', '2.7', '4.9', '1.8', 'Iris-virginica'],\n",
              "       ['6.7', '3.3', '5.7', '2.1', 'Iris-virginica'],\n",
              "       ['7.2', '3.2', '6.0', '1.8', 'Iris-virginica'],\n",
              "       ['6.2', '2.8', '4.8', '1.8', 'Iris-virginica'],\n",
              "       ['6.1', '3.0', '4.9', '1.8', 'Iris-virginica'],\n",
              "       ['6.4', '2.8', '5.6', '2.1', 'Iris-virginica'],\n",
              "       ['7.2', '3.0', '5.8', '1.6', 'Iris-virginica'],\n",
              "       ['7.4', '2.8', '6.1', '1.9', 'Iris-virginica'],\n",
              "       ['7.9', '3.8', '6.4', '2.0', 'Iris-virginica'],\n",
              "       ['6.4', '2.8', '5.6', '2.2', 'Iris-virginica'],\n",
              "       ['6.3', '2.8', '5.1', '1.5', 'Iris-virginica'],\n",
              "       ['6.1', '2.6', '5.6', '1.4', 'Iris-virginica'],\n",
              "       ['7.7', '3.0', '6.1', '2.3', 'Iris-virginica'],\n",
              "       ['6.3', '3.4', '5.6', '2.4', 'Iris-virginica'],\n",
              "       ['6.4', '3.1', '5.5', '1.8', 'Iris-virginica'],\n",
              "       ['6.0', '3.0', '4.8', '1.8', 'Iris-virginica'],\n",
              "       ['6.9', '3.1', '5.4', '2.1', 'Iris-virginica'],\n",
              "       ['6.7', '3.1', '5.6', '2.4', 'Iris-virginica'],\n",
              "       ['6.9', '3.1', '5.1', '2.3', 'Iris-virginica'],\n",
              "       ['5.8', '2.7', '5.1', '1.9', 'Iris-virginica'],\n",
              "       ['6.8', '3.2', '5.9', '2.3', 'Iris-virginica'],\n",
              "       ['6.7', '3.3', '5.7', '2.5', 'Iris-virginica'],\n",
              "       ['6.7', '3.0', '5.2', '2.3', 'Iris-virginica'],\n",
              "       ['6.3', '2.5', '5.0', '1.9', 'Iris-virginica'],\n",
              "       ['6.5', '3.0', '5.2', '2.0', 'Iris-virginica'],\n",
              "       ['6.2', '3.4', '5.4', '2.3', 'Iris-virginica'],\n",
              "       ['5.9', '3.0', '5.1', '1.8', 'Iris-virginica']], dtype='<U15')"
            ]
          },
          "metadata": {
            "tags": []
          },
          "execution_count": 10
        }
      ]
    }
  ]
}