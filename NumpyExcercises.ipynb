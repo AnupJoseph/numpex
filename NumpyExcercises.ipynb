{
  "nbformat": 4,
  "nbformat_minor": 0,
  "metadata": {
    "colab": {
      "name": "NumpyExcercises.ipynb",
      "provenance": [],
      "authorship_tag": "ABX9TyMaQaoeF/7oTaQwTDJjmFOz",
      "include_colab_link": true
    },
    "kernelspec": {
      "name": "python3",
      "display_name": "Python 3"
    }
  },
  "cells": [
    {
      "cell_type": "markdown",
      "metadata": {
        "id": "view-in-github",
        "colab_type": "text"
      },
      "source": [
        "<a href=\"https://colab.research.google.com/github/AnupJoseph/numpex/blob/master/NumpyExcercises.ipynb\" target=\"_parent\"><img src=\"https://colab.research.google.com/assets/colab-badge.svg\" alt=\"Open In Colab\"/></a>"
      ]
    },
    {
      "cell_type": "code",
      "metadata": {
        "id": "NZMnxkphqA6Z",
        "colab_type": "code",
        "colab": {}
      },
      "source": [
        "#This notebook contains solutions to the question in the following github repository \\\n",
        "# Numpy 100 excersices : https://github.com/rougier/numpy-100\n",
        "# All questions are based on the numpy library"
      ],
      "execution_count": 0,
      "outputs": []
    },
    {
      "cell_type": "code",
      "metadata": {
        "id": "4Whdpytipd5D",
        "colab_type": "code",
        "colab": {}
      },
      "source": [
        "# Q1 Import the numpy package under the name np\n",
        "import numpy as np"
      ],
      "execution_count": 0,
      "outputs": []
    },
    {
      "cell_type": "code",
      "metadata": {
        "id": "D40w2n58qlMw",
        "colab_type": "code",
        "colab": {
          "base_uri": "https://localhost:8080/",
          "height": 493
        },
        "outputId": "2517ec7d-9d75-40e9-8a34-9122b8e1a878"
      },
      "source": [
        "# Q2 Print the numpy version and the configuration\n",
        "\n",
        "# Numpy version\n",
        "print(np.__version__)\n",
        "\n",
        "# Numpy configuration\n",
        "print(np.show_config())"
      ],
      "execution_count": 3,
      "outputs": [
        {
          "output_type": "stream",
          "text": [
            "1.18.4\n",
            "blas_mkl_info:\n",
            "  NOT AVAILABLE\n",
            "blis_info:\n",
            "  NOT AVAILABLE\n",
            "openblas_info:\n",
            "    libraries = ['openblas', 'openblas']\n",
            "    library_dirs = ['/usr/local/lib']\n",
            "    language = c\n",
            "    define_macros = [('HAVE_CBLAS', None)]\n",
            "blas_opt_info:\n",
            "    libraries = ['openblas', 'openblas']\n",
            "    library_dirs = ['/usr/local/lib']\n",
            "    language = c\n",
            "    define_macros = [('HAVE_CBLAS', None)]\n",
            "lapack_mkl_info:\n",
            "  NOT AVAILABLE\n",
            "openblas_lapack_info:\n",
            "    libraries = ['openblas', 'openblas']\n",
            "    library_dirs = ['/usr/local/lib']\n",
            "    language = c\n",
            "    define_macros = [('HAVE_CBLAS', None)]\n",
            "lapack_opt_info:\n",
            "    libraries = ['openblas', 'openblas']\n",
            "    library_dirs = ['/usr/local/lib']\n",
            "    language = c\n",
            "    define_macros = [('HAVE_CBLAS', None)]\n",
            "None\n"
          ],
          "name": "stdout"
        }
      ]
    },
    {
      "cell_type": "code",
      "metadata": {
        "id": "Idj5MzXXrLMg",
        "colab_type": "code",
        "colab": {
          "base_uri": "https://localhost:8080/",
          "height": 34
        },
        "outputId": "8c038608-6578-498c-e318-0f21c2cb2a13"
      },
      "source": [
        "# Q3 Create a null vector of size 10\n",
        "null_vector = np.zeros(10)\n",
        "print(null_vector)"
      ],
      "execution_count": 7,
      "outputs": [
        {
          "output_type": "stream",
          "text": [
            "[0. 0. 0. 0. 0. 0. 0. 0. 0. 0.]\n"
          ],
          "name": "stdout"
        }
      ]
    },
    {
      "cell_type": "code",
      "metadata": {
        "id": "9iZ87QR_s4-U",
        "colab_type": "code",
        "colab": {
          "base_uri": "https://localhost:8080/",
          "height": 34
        },
        "outputId": "9a0c71ea-4cce-4c4b-d8eb-26fa5cf461cc"
      },
      "source": [
        "# Q4 How to find the memory size of any array\n",
        "size_vector = np.zeros((10,5))\n",
        "print(\"Size of the vector = {} bytes\".format(size_vector.size*size_vector.itemsize))"
      ],
      "execution_count": 9,
      "outputs": [
        {
          "output_type": "stream",
          "text": [
            "Size of the vector = 400 bytes\n"
          ],
          "name": "stdout"
        }
      ]
    }
  ]
}